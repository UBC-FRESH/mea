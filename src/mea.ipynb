{
 "cells": [
  {
   "cell_type": "markdown",
   "metadata": {},
   "source": [
    "# Model for Economic Analysis (MEA)\n",
    "`v0.1alpha`\n",
    "\n",
    "This notebook implements the _model for economic analysis_ (MEA), which estimates _marginal cost curves_ (MCC) of  forest sector climate change mitigation scenarios simulated in the context of the phase 2 PICS research project. "
   ]
  },
  {
   "cell_type": "code",
   "execution_count": null,
   "metadata": {},
   "outputs": [],
   "source": [
    "%matplotlib inline\n",
    "%load_ext autoreload\n",
    "%aimport mea\n",
    "%aimport sem\n",
    "%autoreload 1\n",
    "%run -i mea_params.py"
   ]
  },
  {
   "cell_type": "markdown",
   "metadata": {},
   "source": [
    "Run the cell below to display interactive widgets you can use to specify *analysis period*, *scenario suite* to import, and (optionally) a *subset of scenarios* to import. Click the _Run MEA_ button to run MEA using these settings."
   ]
  },
  {
   "cell_type": "code",
   "execution_count": null,
   "metadata": {},
   "outputs": [],
   "source": [
    "display(run_mea_widget)"
   ]
  },
  {
   "cell_type": "markdown",
   "metadata": {},
   "source": [
    "Run the cell below to display interactive widgets you can use to specify *goal*, *portfolio*, and (optionally) *output file path*. Click the _Plot MCC_ button to display the MCC. Trying to plot MCCs before importing a suite is silly."
   ]
  },
  {
   "cell_type": "code",
   "execution_count": null,
   "metadata": {},
   "outputs": [],
   "source": [
    "display(create_plot_mcc_widget())"
   ]
  },
  {
   "cell_type": "markdown",
   "metadata": {},
   "source": [
    "Run the code in the cell below to generate an MCC plot overlaying _all the portfolios_ for the currently selected suite."
   ]
  },
  {
   "cell_type": "code",
   "execution_count": null,
   "metadata": {},
   "outputs": [],
   "source": [
    "figsize = (10, 5)\n",
    "fig, ax = mea.compile_mcc_figure(mea_results, goals, portfolios, 0, 0, figsize=figsize)\n",
    "fig, ax = mea.compile_mcc_figure(mea_results, goals, portfolios, 0, 1, fig_ax=(fig, ax), figsize=figsize)\n",
    "fig, ax = mea.compile_mcc_figure(mea_results, goals, portfolios, 0, 2, fig_ax=(fig, ax), figsize=figsize)\n",
    "fig, ax = mea.compile_mcc_figure(mea_results, goals, portfolios, 0, 3, fig_ax=(fig, ax), figsize=figsize)\n",
    "fig, ax = mea.compile_mcc_figure(mea_results, goals, portfolios, 0, 4, fig_ax=(fig, ax), figsize=figsize)\n",
    "fig, ax = mea.compile_mcc_figure(mea_results, goals, portfolios, 0, 5, fig_ax=(fig, ax), figsize=figsize)\n",
    "fig, ax = mea.compile_mcc_figure(mea_results, goals, portfolios, 0, 6, fig_ax=(fig, ax), figsize=figsize)\n",
    "fig, ax = mea.compile_mcc_figure(mea_results, goals, portfolios, 0, 7, fig_ax=(fig, ax), figsize=figsize)\n",
    "fig, ax = mea.compile_mcc_figure(mea_results, goals, portfolios, 0, 8, fig_ax=(fig, ax), figsize=figsize)\n",
    "fig, ax = mea.compile_mcc_figure(mea_results, goals, portfolios, 0, 9, fig_ax=(fig, ax), figsize=figsize)\n",
    "fig, ax = mea.compile_mcc_figure(mea_results, goals, portfolios, 0, 10, fig_ax=(fig, ax), figsize=figsize)\n",
    "fig, ax = mea.compile_mcc_figure(mea_results, goals, portfolios, 0, 11, fig_ax=(fig, ax), figsize=figsize)\n",
    "ax.set_xlim([-10, 500])\n",
    "#ax.set_ylim(-5000, +5000)"
   ]
  }
 ],
 "metadata": {
  "kernelspec": {
   "display_name": "Python 3",
   "language": "python",
   "name": "python3"
  },
  "language_info": {
   "codemirror_mode": {
    "name": "ipython",
    "version": 3
   },
   "file_extension": ".py",
   "mimetype": "text/x-python",
   "name": "python",
   "nbconvert_exporter": "python",
   "pygments_lexer": "ipython3",
   "version": "3.6.7"
  }
 },
 "nbformat": 4,
 "nbformat_minor": 2
}
